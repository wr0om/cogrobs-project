{
 "cells": [
  {
   "cell_type": "code",
   "execution_count": 1,
   "metadata": {},
   "outputs": [],
   "source": [
    "import pandas as pd"
   ]
  },
  {
   "cell_type": "code",
   "execution_count": 3,
   "metadata": {},
   "outputs": [
    {
     "data": {
      "text/html": [
       "<div>\n",
       "<style scoped>\n",
       "    .dataframe tbody tr th:only-of-type {\n",
       "        vertical-align: middle;\n",
       "    }\n",
       "\n",
       "    .dataframe tbody tr th {\n",
       "        vertical-align: top;\n",
       "    }\n",
       "\n",
       "    .dataframe thead th {\n",
       "        text-align: right;\n",
       "    }\n",
       "</style>\n",
       "<table border=\"1\" class=\"dataframe\">\n",
       "  <thead>\n",
       "    <tr style=\"text-align: right;\">\n",
       "      <th></th>\n",
       "      <th></th>\n",
       "      <th></th>\n",
       "      <th></th>\n",
       "      <th></th>\n",
       "      <th>SEED</th>\n",
       "      <th>Time</th>\n",
       "      <th>Distance</th>\n",
       "    </tr>\n",
       "    <tr>\n",
       "      <th>PLANNING_EXPERIMENT</th>\n",
       "      <th>INPLACE</th>\n",
       "      <th>MOVING</th>\n",
       "      <th>ADVERSARIAL</th>\n",
       "      <th>OBSTACLES</th>\n",
       "      <th></th>\n",
       "      <th></th>\n",
       "      <th></th>\n",
       "    </tr>\n",
       "  </thead>\n",
       "  <tbody>\n",
       "    <tr>\n",
       "      <th>1</th>\n",
       "      <th>True</th>\n",
       "      <th>False</th>\n",
       "      <th>False</th>\n",
       "      <th>False</th>\n",
       "      <td>2</td>\n",
       "      <td>76.629333</td>\n",
       "      <td>32.902041</td>\n",
       "    </tr>\n",
       "    <tr>\n",
       "      <th>2</th>\n",
       "      <th>True</th>\n",
       "      <th>False</th>\n",
       "      <th>False</th>\n",
       "      <th>False</th>\n",
       "      <td>2</td>\n",
       "      <td>69.866667</td>\n",
       "      <td>28.166194</td>\n",
       "    </tr>\n",
       "    <tr>\n",
       "      <th>3</th>\n",
       "      <th>True</th>\n",
       "      <th>False</th>\n",
       "      <th>False</th>\n",
       "      <th>False</th>\n",
       "      <td>2</td>\n",
       "      <td>69.866667</td>\n",
       "      <td>28.166194</td>\n",
       "    </tr>\n",
       "    <tr>\n",
       "      <th>4</th>\n",
       "      <th>True</th>\n",
       "      <th>False</th>\n",
       "      <th>False</th>\n",
       "      <th>False</th>\n",
       "      <td>2</td>\n",
       "      <td>69.866667</td>\n",
       "      <td>28.166194</td>\n",
       "    </tr>\n",
       "  </tbody>\n",
       "</table>\n",
       "</div>"
      ],
      "text/plain": [
       "                                                          SEED       Time  \\\n",
       "PLANNING_EXPERIMENT INPLACE MOVING ADVERSARIAL OBSTACLES                    \n",
       "1                   True    False  False       False         2  76.629333   \n",
       "2                   True    False  False       False         2  69.866667   \n",
       "3                   True    False  False       False         2  69.866667   \n",
       "4                   True    False  False       False         2  69.866667   \n",
       "\n",
       "                                                           Distance  \n",
       "PLANNING_EXPERIMENT INPLACE MOVING ADVERSARIAL OBSTACLES             \n",
       "1                   True    False  False       False      32.902041  \n",
       "2                   True    False  False       False      28.166194  \n",
       "3                   True    False  False       False      28.166194  \n",
       "4                   True    False  False       False      28.166194  "
      ]
     },
     "execution_count": 3,
     "metadata": {},
     "output_type": "execute_result"
    }
   ],
   "source": [
    "csv_path = 'all_results.csv'\n",
    "df = pd.read_csv(csv_path)\n",
    "\n",
    "# columns are: SEED,PLANNING_EXPERIMENT,INPLACE,MOVING,ADVERSARIAL,OBSTACLES,Time,Distance\n",
    "# we want to group by all columns except seed, and then take the mean of the time and distance columns\n",
    "grouped = df.groupby(['PLANNING_EXPERIMENT', 'INPLACE', 'MOVING', 'ADVERSARIAL', 'OBSTACLES']).mean()\n",
    "grouped"
   ]
  }
 ],
 "metadata": {
  "kernelspec": {
   "display_name": "cogrob",
   "language": "python",
   "name": "python3"
  },
  "language_info": {
   "codemirror_mode": {
    "name": "ipython",
    "version": 3
   },
   "file_extension": ".py",
   "mimetype": "text/x-python",
   "name": "python",
   "nbconvert_exporter": "python",
   "pygments_lexer": "ipython3",
   "version": "3.8.8"
  }
 },
 "nbformat": 4,
 "nbformat_minor": 2
}
